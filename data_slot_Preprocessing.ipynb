{
 "cells": [
  {
   "cell_type": "code",
   "execution_count": null,
   "metadata": {},
   "outputs": [],
   "source": [
    "import glob\n",
    "import pandas as pd\n",
    "import numpy as np\n",
    "import sys"
   ]
  },
  {
   "cell_type": "code",
   "execution_count": null,
   "metadata": {},
   "outputs": [],
   "source": [
    "csv_list = glob.glob(\"{}/*.csv\".format(PATH))"
   ]
  },
  {
   "cell_type": "code",
   "execution_count": null,
   "metadata": {},
   "outputs": [],
   "source": [
    "list_tmp = []\n",
    "for line in csv_list:\n",
    "    hoge = pd.read_csv(line)\n",
    "    list_tmp.append(hoge)\n",
    "\n",
    "slot_df = pd.concat(list_tmp)"
   ]
  },
  {
   "cell_type": "code",
   "execution_count": null,
   "metadata": {},
   "outputs": [],
   "source": [
    "jag_df = slot_df.loc[(slot_df.loc[:, \"台番号\"] >= 1253) & (slot_df.loc[:, \"台番号\"] <= 1282 )]"
   ]
  },
  {
   "cell_type": "code",
   "execution_count": null,
   "metadata": {},
   "outputs": [],
   "source": [
    "slot_num = list(range(1253, 1283))"
   ]
  },
  {
   "cell_type": "code",
   "execution_count": null,
   "metadata": {},
   "outputs": [],
   "source": [
    "df_list = []"
   ]
  },
  {
   "cell_type": "code",
   "execution_count": null,
   "metadata": {},
   "outputs": [],
   "source": [
    "for line in slot_num:\n",
    "    df_list.append(jag_df.loc[jag_df.loc[:, \"台番号\"] == line])"
   ]
  },
  {
   "cell_type": "code",
   "execution_count": null,
   "metadata": {},
   "outputs": [],
   "source": [
    "# 空のDataFrameを削除\n",
    "df_list = [i for i in df_list if len(i) != 0]"
   ]
  },
  {
   "cell_type": "code",
   "execution_count": null,
   "metadata": {},
   "outputs": [],
   "source": [
    "gogo_jag = [\"1/154.9\", \"1/149.3\", \"1/145.0\", \"1/135.7\", \"1/127.5\", \"1/121.4\"]\n",
    "my_jag = [\"1/172.5\", \"1/159.1\", \"1/151.7\", \"1/138.9\", \"1/132.1\", \"1/120.5\"]"
   ]
  },
  {
   "cell_type": "code",
   "execution_count": null,
   "metadata": {},
   "outputs": [],
   "source": [
    "gogo_pro = []\n",
    "my_pro = []\n",
    "for _ in gogo_jag:\n",
    "    tmp = _.split(\"/\")\n",
    "    gogo_pro.append(float(tmp[0]) / float(tmp[1]))\n",
    "\n",
    "for _ in my_jag:\n",
    "    tmp = _.split(\"/\")\n",
    "    my_pro.append(float(tmp[0]) / float(tmp[1]))\n"
   ]
  },
  {
   "cell_type": "code",
   "execution_count": null,
   "metadata": {},
   "outputs": [],
   "source": [
    "for i, df in enumerate(df_list):\n",
    "    hoge_np = np.array([])\n",
    "    for line in df.iterrows():\n",
    "        if \"ﾏｲ\" in line[1][4]:\n",
    "            if type(line[1][8]) is float:\n",
    "                tmp = \"1/172.5\".split(\"/\")\n",
    "                hoge_np = np.append(hoge_np, 1)\n",
    "            else:\n",
    "                tmp = line[1][8].split(\"/\")\n",
    "                hoge = float(tmp[0]) / float(tmp[1])\n",
    "                if hoge >= my_pro[5]:\n",
    "                    hoge_np = np.append(hoge_np, 5)\n",
    "                elif hoge >= my_pro[4]:\n",
    "                    hoge_np = np.append(hoge_np, 4)\n",
    "                elif hoge >= my_pro[3]:\n",
    "                    hoge_np = np.append(hoge_np, 3)\n",
    "                elif hoge >= my_pro[2]:\n",
    "                    hoge_np = np.append(hoge_np, 2)\n",
    "                elif hoge >= my_pro[1]:\n",
    "                    hoge_np = np.append(hoge_np, 1)\n",
    "                else:\n",
    "                    hoge_np = np.append(hoge_np, 0)\n",
    "        else:\n",
    "            if type(line[1][8]) is float:\n",
    "                tmp = \"1/154.9\".split(\"/\")\n",
    "                hoge_np = np.append(hoge_np, 1)\n",
    "            else:\n",
    "                tmp = line[1][8].split(\"/\")\n",
    "                hoge = float(tmp[0]) / float(tmp[1])\n",
    "                if hoge >= gogo_pro[5]:\n",
    "                    hoge_np = np.append(hoge_np, 5)\n",
    "                elif hoge >= gogo_pro[4]:\n",
    "                    hoge_np = np.append(hoge_np, 4)\n",
    "                elif hoge >= gogo_pro[3]:\n",
    "                    hoge_np = np.append(hoge_np, 3)\n",
    "                elif hoge >= gogo_pro[2]:\n",
    "                    hoge_np = np.append(hoge_np, 2)\n",
    "                elif hoge >= gogo_pro[1]:\n",
    "                    hoge_np = np.append(hoge_np, 1)\n",
    "                else:\n",
    "                    hoge_np = np.append(hoge_np, 0)\n",
    "    df_list[i].loc[:, \"設定\"] = hoge_np"
   ]
  },
  {
   "cell_type": "code",
   "execution_count": null,
   "metadata": {},
   "outputs": [],
   "source": [
    "# 読み込んだデータをpickleで吐く\n",
    "import pickle\n",
    "with open(\"slot_dump\", \"wb\") as slt:\n",
    "    pickle.dump(df_list, slt)"
   ]
  }
 ],
 "metadata": {
  "kernelspec": {
   "display_name": "Python 3",
   "language": "python",
   "name": "python3"
  },
  "language_info": {
   "codemirror_mode": {
    "name": "ipython",
    "version": 3
   },
   "file_extension": ".py",
   "mimetype": "text/x-python",
   "name": "python",
   "nbconvert_exporter": "python",
   "pygments_lexer": "ipython3",
   "version": "3.7.3"
  }
 },
 "nbformat": 4,
 "nbformat_minor": 2
}
