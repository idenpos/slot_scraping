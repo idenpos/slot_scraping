{
 "cells": [
  {
   "cell_type": "code",
   "execution_count": null,
   "metadata": {},
   "outputs": [],
   "source": [
    "import glob\n",
    "import pandas as pd\n",
    "import numpy as np\n",
    "import sys\n",
    "from sklearn.ensemble import RandomForestClassifier\n",
    "from sklearn import model_selection # 説明変数、目的変数を訓練用と評価用に分ける\n",
    "import pickle"
   ]
  },
  {
   "cell_type": "code",
   "execution_count": null,
   "metadata": {},
   "outputs": [],
   "source": [
    "with open(\"slot_model_dump\", \"rb\") as slt:\n",
    "    model_dic = pickle.load(slt)"
   ]
  },
  {
   "cell_type": "code",
   "execution_count": null,
   "metadata": {
    "scrolled": true
   },
   "outputs": [],
   "source": [
    "year = int(input(\"西暦何年？\"))\n",
    "month = int(input(\"何月？\"))\n",
    "day = int(input(\"何日？\"))\n",
    "youbi = input(\"何曜？\")\n",
    "youbi_dic = {\"土\": 0, \"日\": 0, \"月\": 0, \"火\": 0, \"水\": 0, \"木\": 0, \"金\": 0}\n",
    "youbi_dic[youbi] = 1\n",
    "youbi_list = list(youbi_dic.values())\n",
    "target_array = np.array([[year, month, day] + youbi_list])"
   ]
  },
  {
   "cell_type": "code",
   "execution_count": null,
   "metadata": {},
   "outputs": [],
   "source": [
    "for line in model_dic:\n",
    "    pred = model_dic[line].predict(target_array)\n",
    "    print(\"{}年{}月{}日{}曜日：{}番のジャグラーの設定は{}です。\".format(year, month, day, youbi, line, pred + 1))"
   ]
  }
 ],
 "metadata": {
  "kernelspec": {
   "display_name": "Python 3",
   "language": "python",
   "name": "python3"
  },
  "language_info": {
   "codemirror_mode": {
    "name": "ipython",
    "version": 3
   },
   "file_extension": ".py",
   "mimetype": "text/x-python",
   "name": "python",
   "nbconvert_exporter": "python",
   "pygments_lexer": "ipython3",
   "version": "3.7.3"
  }
 },
 "nbformat": 4,
 "nbformat_minor": 2
}
