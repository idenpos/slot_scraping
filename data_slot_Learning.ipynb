{
 "cells": [
  {
   "cell_type": "code",
   "execution_count": null,
   "metadata": {},
   "outputs": [],
   "source": [
    "import glob\n",
    "import pandas as pd\n",
    "import numpy as np\n",
    "import sys\n",
    "from sklearn.ensemble import RandomForestClassifier\n",
    "from sklearn import model_selection # 説明変数、目的変数を訓練用と評価用に分ける\n",
    "import pickle\n",
    "from sklearn.metrics import accuracy_score"
   ]
  },
  {
   "cell_type": "code",
   "execution_count": null,
   "metadata": {},
   "outputs": [],
   "source": [
    "with open(\"slot_dump\", \"rb\") as slt:\n",
    "    df_list = pickle.load(slt)"
   ]
  },
  {
   "cell_type": "code",
   "execution_count": null,
   "metadata": {},
   "outputs": [],
   "source": [
    "model_dic = {}\n",
    "for df in df_list:\n",
    "    name = df.iloc[0, 4]\n",
    "    number = df.iloc[0, 5]\n",
    "    \n",
    "    # 目的変数を設定\n",
    "    y = df.loc[:, \"設定\"].values\n",
    "    \n",
    "    # 説明変数を設定\n",
    "    x = pd.get_dummies(df.loc[:, [\"年\", \"月\", \"日\", \"曜日\"]])\n",
    "    \n",
    "    \n",
    "#     \"\"\" 評価用プログラム\n",
    "    x_train, x_test, y_train, y_test = model_selection.train_test_split(x, y, test_size=0.2)\n",
    "    \n",
    "    # 学習\n",
    "    model = RandomForestClassifier()\n",
    "    model.fit(x_train, y_train)\n",
    "    \n",
    "    y_pred = model.predict(x_test)\n",
    "    \n",
    "    #\"\"\"\n",
    "    \n",
    "    # モデルを保存\n",
    "    model_dic[number] = model"
   ]
  },
  {
   "cell_type": "code",
   "execution_count": null,
   "metadata": {},
   "outputs": [],
   "source": [
    "with open(\"slot_model_dump\", \"wb\") as slt:\n",
    "    pickle.dump(model_dic, slt)"
   ]
  }
 ],
 "metadata": {
  "kernelspec": {
   "display_name": "Python 3",
   "language": "python",
   "name": "python3"
  },
  "language_info": {
   "codemirror_mode": {
    "name": "ipython",
    "version": 3
   },
   "file_extension": ".py",
   "mimetype": "text/x-python",
   "name": "python",
   "nbconvert_exporter": "python",
   "pygments_lexer": "ipython3",
   "version": "3.7.3"
  }
 },
 "nbformat": 4,
 "nbformat_minor": 2
}
